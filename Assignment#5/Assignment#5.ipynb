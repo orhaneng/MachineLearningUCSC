{
 "cells": [
  {
   "cell_type": "code",
   "execution_count": 179,
   "metadata": {
    "collapsed": true
   },
   "outputs": [
    {
     "data": {
      "text/plain": [
       "'\\nAssignment 5\\nSubmit Assignment\\nA biometrics database contains height and handspan measurements collected from a large number of individuals.\\n Presumably, that population consists of adult females, adult males and children. \\n The class labels have not been provided in the database. The database is attached.\\n1.\\tUse the Expectation Maximization algorithm to figure out the class (F, M, or C) of each sample. \\nNote: You may use a module such as scikit-learn. You do not need to implement the algorithm from scratch\\n2.\\tEstimate the confidence of each prediction by computing the posterior probability\\n3.\\tEstimate the number of adult females, adult males and children in the population\\nAssignment_5_Data_and_Template.xlsx \\n\\n'"
      ]
     },
     "execution_count": 179,
     "metadata": {},
     "output_type": "execute_result"
    }
   ],
   "source": [
    "\"\"\"\n",
    "Assignment 5\n",
    "Submit Assignment\n",
    "A biometrics database contains height and handspan measurements collected from a large number of individuals.\n",
    " Presumably, that population consists of adult females, adult males and children. \n",
    " The class labels have not been provided in the database. The database is attached.\n",
    "1.\tUse the Expectation Maximization algorithm to figure out the class (F, M, or C) of each sample. \n",
    "Note: You may use a module such as scikit-learn. You do not need to implement the algorithm from scratch\n",
    "2.\tEstimate the confidence of each prediction by computing the posterior probability\n",
    "3.\tEstimate the number of adult females, adult males and children in the population\n",
    "Assignment_5_Data_and_Template.xlsx \n",
    "\n",
    "\"\"\""
   ]
  },
  {
   "cell_type": "code",
   "execution_count": 293,
   "metadata": {
    "collapsed": true
   },
   "outputs": [
    {
     "name": "stdout",
     "output_type": "stream",
     "text": [
      "0    258\ndtype: int64\n"
     ]
    },
    {
     "data": {
      "text/plain": [
       "<matplotlib.collections.PathCollection at 0x12021b710>"
      ]
     },
     "execution_count": 293,
     "metadata": {},
     "output_type": "execute_result"
    },
    {
     "data": {
      "image/png": "[encoded data removed]",
      "text/plain": [
       "<Figure size 432x288 with 1 Axes>"
      ]
     },
     "metadata": {},
     "output_type": "display_data"
    }
   ],
   "source": [
    "import numpy as np\n",
    "from matplotlib import pyplot as plt\n",
    "\n",
    "def getSheetNames(excelfile):\n",
    "    from pandas import ExcelFile\n",
    "    return (ExcelFile(excelfile)).sheet_names\n",
    "\n",
    "def readExcelSheet1(excelfile):\n",
    "    from pandas import read_excel\n",
    "    return (read_excel(excelfile)).values\n",
    "\n",
    "def readExcelRange(excelfile, sheetname=\"Sheet1\", startrow=1, endrow=1, startcol=1, endcol=1):\n",
    "    from pandas import read_excel\n",
    "    values = (read_excel(excelfile, sheetname, header=None)).values;\n",
    "    return values[startrow - 1:endrow, startcol - 1:endcol]\n",
    "\n",
    "def readExcel(excelfile, **args):\n",
    "    if args:\n",
    "        data = readExcelRange(excelfile, **args)\n",
    "    else:\n",
    "        data = readExcelSheet1(excelfile)\n",
    "    if data.shape == (1, 1):\n",
    "        return data[0, 0]\n",
    "    elif (data.shape)[0] == 1:\n",
    "        return data[0]\n",
    "    else:\n",
    "        return data\n",
    "def writeExcelData(x, excelfile, sheetname, startrow, startcol, reshape=None):\n",
    "    from pandas import DataFrame, ExcelWriter\n",
    "    from openpyxl import load_workbook\n",
    "    if reshape:\n",
    "        df = DataFrame(x.reshape(-1, len(x)))\n",
    "    else:\n",
    "        df = DataFrame(x)\n",
    "    book = load_workbook(excelfile)\n",
    "    writer = ExcelWriter(excelfile, engine='openpyxl')\n",
    "    writer.book = book\n",
    "    writer.sheets = dict((ws.title, ws) for ws in book.worksheets)\n",
    "    df.to_excel(writer, sheet_name=sheetname, startrow=startrow - 1, startcol=startcol - 1, header=False, index=False)\n",
    "    writer.save()\n",
    "    writer.close()\n",
    "\n",
    "\n",
    "excelfile = r\"/Users/omerorhan/Desktop/UCSC/MachineLearning/Assignments/venv/notebookfiles/\" \\\n",
    "            r\"Assignment#5/Assignment_5_Data_and_Template.xlsx\";\n",
    "sheets = getSheetNames(excelfile)\n",
    "sheets\n",
    "\n",
    "dataset = readExcel(excelfile)\n",
    "\n",
    "data = dataset\n",
    "data[:, 0] = data[:, 0] * 2.54\n",
    "\n",
    "plt.scatter(data[:, 0], data[:, 1])\n",
    "gmm = GaussianMixture(n_components=3)\n",
    "\n",
    "gmm.fit(data)\n",
    "\n",
    "labels = gmm.predict(data)\n",
    "\n",
    "labels = DataFrame(labels)\n",
    "labels[labels == 0] = \"C\"\n",
    "labels[labels == 1] = \"M\"\n",
    "labels[labels == 2] = \"F\"\n",
    "print(labels[labels == \"M\"].count())\n",
    "writeExcelData(labels, excelfile, \"Results\", 2, 1)\n",
    "writeExcelData([labels[labels == \"M\"].count()], excelfile, \"Results\", 2, 6)\n",
    "writeExcelData([labels[labels == \"F\"].count()], excelfile, \"Results\", 3, 6)\n",
    "writeExcelData([labels[labels == \"C\"].count()], excelfile, \"Results\", 4, 6)\n",
    "d['labels'] = labels\n",
    "d0 = d[d['labels'] == \"C\"]\n",
    "d1 = d[d['labels'] == \"M\"]\n",
    "d2 = d[d['labels'] == \"F\"]\n",
    "\n",
    "# plot three clusters in same plot \n",
    "plt.scatter(d0[0], d0[1], c='r')\n",
    "plt.scatter(d1[0], d1[1], c='yellow')\n",
    "plt.scatter(d2[0], d2[1], c='g')\n"
   ]
  },
  {
   "cell_type": "code",
   "execution_count": 182,
   "metadata": {},
   "outputs": [
    {
     "name": "stdout",
     "output_type": "stream",
     "text": [
      "<class 'pandas.core.frame.DataFrame'>\n<class 'pandas.core.frame.DataFrame'>\n"
     ]
    },
    {
     "data": {
      "text/plain": [
       "<matplotlib.collections.PathCollection at 0x11c650898>"
      ]
     },
     "execution_count": 182,
     "metadata": {},
     "output_type": "execute_result"
    },
    {
     "data": {
      "image/png": "[encoded data removed]",
      "text/plain": [
       "<Figure size 432x288 with 1 Axes>"
      ]
     },
     "metadata": {},
     "output_type": "display_data"
    }
   ],
   "source": [
    "import numpy as np \n",
    "import pandas as pd \n",
    "import matplotlib.pyplot as plt \n",
    "from pandas import DataFrame \n",
    "from sklearn import datasets \n",
    "from sklearn.mixture import GaussianMixture \n",
    "  \n",
    "# load the iris dataset \n",
    "iris = datasets.load_iris() \n",
    "  \n",
    "# select first two columns  \n",
    "X = iris.data[:, :2] \n",
    "  \n",
    "# turn it into a dataframe \n",
    "d = pd.DataFrame(X) \n",
    "\n",
    "# plot the data \n",
    "plt.scatter(d[0], d[1]) \n",
    "\n",
    "gmm = GaussianMixture(n_components = 3) \n",
    "  \n",
    "# Fit the GMM model for the dataset  \n",
    "# which expresses the dataset as a  \n",
    "# mixture of 3 Gaussian Distribution \n",
    "print(type(d))\n",
    "\n",
    "gmm.fit(d) \n",
    "  \n",
    "# Assign a label to each sample \n",
    "labels = gmm.predict(d) \n",
    "print(type(d))\n",
    "d['labels']= labels \n",
    "d0 = d[d['labels']== 0] \n",
    "d1 = d[d['labels']== 1] \n",
    "d2 = d[d['labels']== 2] \n",
    "  \n",
    "# plot three clusters in same plot \n",
    "plt.scatter(d0[0], d0[1], c ='r') \n",
    "plt.scatter(d1[0], d1[1], c ='yellow') \n",
    "plt.scatter(d2[0], d2[1], c ='g') "
   ]
  },
  {
   "cell_type": "code",
   "execution_count": 183,
   "metadata": {},
   "outputs": [],
   "source": [
    ""
   ]
  }
 ],
 "metadata": {
  "kernelspec": {
   "display_name": "Python 2",
   "language": "python",
   "name": "python2"
  },
  "language_info": {
   "codemirror_mode": {
    "name": "ipython",
    "version": 2
   },
   "file_extension": ".py",
   "mimetype": "text/x-python",
   "name": "python",
   "nbconvert_exporter": "python",
   "pygments_lexer": "ipython2",
   "version": "2.7.6"
  }
 },
 "nbformat": 4,
 "nbformat_minor": 0
}
