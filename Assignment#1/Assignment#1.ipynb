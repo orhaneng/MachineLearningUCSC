{
 "cells": [
  {
   "cell_type": "code",
   "execution_count": 1,
   "metadata": {},
   "outputs": [
    {
     "name": "stdout",
     "output_type": "stream",
     "text": [
      "/Users/omerorhan\n"
     ]
    }
   ],
   "source": [
    "import numpy as np\n",
    "import matplotlib.pyplot as plt\n",
    "from pandas import DataFrame\n",
    "\n",
    "import os\n",
    "print(os.getcwd())"
   ]
  },
  {
   "cell_type": "code",
   "execution_count": 2,
   "metadata": {},
   "outputs": [],
   "source": [
    "def readExcelSheet1(excelfile):\n",
    "    from pandas import read_excel\n",
    "    return (read_excel(excelfile)).values\n",
    "\n"
   ]
  },
  {
   "cell_type": "code",
   "execution_count": 3,
   "metadata": {},
   "outputs": [],
   "source": [
    "def readExcelRange(excelfile,sheetname=\"Sheet1\",startrow=1,endrow=1,startcol=1,endcol=1):\n",
    "    from pandas import read_excel\n",
    "    values=(read_excel(excelfile, sheetname,header=None)).values;\n",
    "    return values[startrow-1:endrow,startcol-1:endcol]"
   ]
  },
  {
   "cell_type": "code",
   "execution_count": 4,
   "metadata": {},
   "outputs": [],
   "source": [
    "def readExcel(excelfile,**args):\n",
    "    if args:\n",
    "        data=readExcelRange(excelfile,**args)\n",
    "    else:\n",
    "        data=readExcelSheet1(excelfile)\n",
    "    if data.shape==(1,1):\n",
    "        return data[0,0]\n",
    "    elif (data.shape)[0]==1:\n",
    "        return data[0]\n",
    "    else:\n",
    "        return data"
   ]
  },
  {
   "cell_type": "code",
   "execution_count": null,
   "metadata": {},
   "outputs": [],
   "source": []
  },
  {
   "cell_type": "code",
   "execution_count": 5,
   "metadata": {},
   "outputs": [],
   "source": [
    "def writeExcelData(x,excelfile,sheetname,startrow,startcol, reshape=None):\n",
    "    from pandas import DataFrame, ExcelWriter\n",
    "    from openpyxl import load_workbook\n",
    "    if reshape:\n",
    "        df=DataFrame(x.reshape(-1,len(x)))\n",
    "    else:\n",
    "        df=DataFrame(x)\n",
    "    book = load_workbook(excelfile)\n",
    "    writer = ExcelWriter(excelfile, engine='openpyxl') \n",
    "    writer.book = book\n",
    "    writer.sheets = dict((ws.title, ws) for ws in book.worksheets)\n",
    "    df.to_excel(writer, sheet_name=sheetname,startrow=startrow-1, startcol=startcol-1, header=False, index=False)\n",
    "    writer.save()\n",
    "    writer.close()"
   ]
  },
  {
   "cell_type": "code",
   "execution_count": null,
   "metadata": {},
   "outputs": [],
   "source": []
  },
  {
   "cell_type": "code",
   "execution_count": 6,
   "metadata": {},
   "outputs": [],
   "source": [
    "def getSheetNames(excelfile):\n",
    "    from pandas import ExcelFile\n",
    "    return (ExcelFile(excelfile)).sheet_names"
   ]
  },
  {
   "cell_type": "code",
   "execution_count": null,
   "metadata": {},
   "outputs": [],
   "source": []
  },
  {
   "cell_type": "code",
   "execution_count": 14,
   "metadata": {},
   "outputs": [],
   "source": [
    "def Build1DHistogramClassifier(X,T,B,xmin,xmax):\n",
    "    HF=np.zeros(B).astype('int32');\n",
    "    HM=np.zeros(B).astype('int32');\n",
    "    binindices=(np.round(((B-1)*(X-xmin)/(xmax-xmin)))).astype('int32');\n",
    "    for i,b in enumerate(binindices):\n",
    "        if T[i]=='Female':\n",
    "            HF[b]+=1;\n",
    "        else:\n",
    "            HM[b]+=1;\n",
    "    return [HF, HM]"
   ]
  },
  {
   "cell_type": "code",
   "execution_count": null,
   "metadata": {},
   "outputs": [],
   "source": []
  },
  {
   "cell_type": "code",
   "execution_count": null,
   "metadata": {},
   "outputs": [],
   "source": []
  },
  {
   "cell_type": "code",
   "execution_count": null,
   "metadata": {},
   "outputs": [],
   "source": []
  },
  {
   "cell_type": "code",
   "execution_count": null,
   "metadata": {},
   "outputs": [],
   "source": []
  },
  {
   "cell_type": "code",
   "execution_count": 8,
   "metadata": {},
   "outputs": [],
   "source": [
    "def Apply1DHistogramClassifier(queries,HF,HM,xmin,xmax):\n",
    "    B=np.alen(HF);\n",
    "    binindices=np.clip((np.round(((B-1)*(queries-xmin)/(xmax-xmin)))).astype('int32'),0,B-1);\n",
    "    countF=HF[binindices];\n",
    "    countM=HM[binindices];\n",
    "    resultlabel=np.full(np.alen(binindices),\"Indeterminate\",dtype=object);\n",
    "    resultprob=np.full(np.alen(binindices),np.nan,dtype=object);\n",
    "    indicesF=countF>countM;\n",
    "    indicesM=countM>countF;\n",
    "    resultlabel[indicesF]=\"Female\";\n",
    "    resultlabel[indicesM]=\"Male\";\n",
    "    probF=countF/(countF+countM);\n",
    "    probM=countM/(countF+countM);\n",
    "    resultprob[indicesF]=probF[indicesF];\n",
    "    resultprob[indicesM]=probM[indicesM];\n",
    "    return resultlabel, resultprob"
   ]
  },
  {
   "cell_type": "code",
   "execution_count": null,
   "metadata": {},
   "outputs": [],
   "source": []
  },
  {
   "cell_type": "code",
   "execution_count": null,
   "metadata": {},
   "outputs": [],
   "source": []
  },
  {
   "cell_type": "code",
   "execution_count": 9,
   "metadata": {},
   "outputs": [
    {
     "data": {
      "text/plain": [
       "['Data',\n 'Classifiers - Full Data',\n 'Classifiers - Partial Data',\n 'Queries',\n 'Observations',\n 'ID']"
      ]
     },
     "execution_count": 9,
     "metadata": {},
     "output_type": "execute_result"
    }
   ],
   "source": [
    "excelfile=r\"/Users/omerorhan/Desktop/UCSC/MachineLearning/Assignment_1_Data_and_Template.xlsx\";\n",
    "sheets=getSheetNames(excelfile);sheets"
   ]
  },
  {
   "cell_type": "code",
   "execution_count": 10,
   "metadata": {},
   "outputs": [
    {
     "name": "stdout",
     "output_type": "stream",
     "text": [
      "[70. 76. 70. ... 69. 60. 64.]\n['Male' 'Male' 'Male' ... 'Male' 'Female' 'Female']\n"
     ]
    }
   ],
   "source": [
    "data=readExcel(excelfile)\n",
    "X=np.array(data[:,0]*12+data[:,1],dtype=float)\n",
    "T=np.array([str(g) for g in data[:,2]])\n",
    "print(X)\n",
    "print(T)"
   ]
  },
  {
   "cell_type": "code",
   "execution_count": null,
   "metadata": {},
   "outputs": [],
   "source": []
  },
  {
   "cell_type": "code",
   "execution_count": 11,
   "metadata": {},
   "outputs": [
    {
     "data": {
      "text/plain": [
       "array([], shape=(0, 6), dtype=float64)"
      ]
     },
     "execution_count": 11,
     "metadata": {},
     "output_type": "execute_result"
    }
   ],
   "source": [
    "queries=(readExcel(excelfile,\n",
    "                  sheetname='Classifiers - Full Data',\n",
    "                  startrow=17,\n",
    "                  endrow=17,\n",
    "                  startcol=2,\n",
    "                  endcol=7)).astype(float);queries"
   ]
  },
  {
   "cell_type": "code",
   "execution_count": 15,
   "metadata": {},
   "outputs": [],
   "source": [
    "#Histogram Classifier\n",
    "\n",
    "B=32;\n",
    "xmin=np.amin(X);\n",
    "xmax=np.amax(X);\n",
    "[HF,HM]=Build1DHistogramClassifier(X,T,B,xmin,xmax);\n"
   ]
  },
  {
   "cell_type": "code",
   "execution_count": null,
   "metadata": {},
   "outputs": [],
   "source": []
  },
  {
   "cell_type": "code",
   "execution_count": null,
   "metadata": {},
   "outputs": [],
   "source": []
  },
  {
   "cell_type": "code",
   "execution_count": 16,
   "metadata": {},
   "outputs": [
    {
     "data": {
      "image/png": "[encoded data removed]",
      "text/plain": [
       "<Figure size 720x360 with 1 Axes>"
      ]
     },
     "metadata": {},
     "output_type": "display_data"
    }
   ],
   "source": [
    "plt.figure(figsize=(10,5));\n",
    "opacity = 0.5\n",
    "[bincenters,binwidth]=np.linspace(xmin, xmax, num=B, retstep=True);\n",
    "rects1 = plt.bar(bincenters-(binwidth/2), HF, binwidth,\n",
    "                 alpha=opacity,\n",
    "                 color='pink',\n",
    "                 edgecolor='black',\n",
    "                 label='Female')\n",
    "rects2 = plt.bar(bincenters+(binwidth/2), HM, binwidth,\n",
    "                 alpha=opacity,\n",
    "                 color='b',\n",
    "                 edgecolor='black',\n",
    "                 label='Male')\n",
    "plt.xlabel('Height')\n",
    "plt.ylabel('Count')\n",
    "plt.xticks(bincenters, bincenters.astype('int32'), fontsize=10)\n",
    "plt.legend()\n",
    "plt.show()"
   ]
  },
  {
   "cell_type": "code",
   "execution_count": 17,
   "metadata": {},
   "outputs": [
    {
     "ename": "IndexError",
     "evalue": "too many indices for array",
     "traceback": [
      "\u001b[0;31m---------------------------------------------------------------------------\u001b[0m",
      "\u001b[0;31mIndexError\u001b[0m                                Traceback (most recent call last)",
      "\u001b[0;32m<ipython-input-17-a8dfc7f430d3>\u001b[0m in \u001b[0;36m<module>\u001b[0;34m\u001b[0m\n\u001b[0;32m----> 1\u001b[0;31m \u001b[0;34m[\u001b[0m\u001b[0mresultHlabel\u001b[0m\u001b[0;34m,\u001b[0m \u001b[0mresultHprob\u001b[0m\u001b[0;34m]\u001b[0m\u001b[0;34m=\u001b[0m\u001b[0mApply1DHistogramClassifier\u001b[0m\u001b[0;34m(\u001b[0m\u001b[0mqueries\u001b[0m\u001b[0;34m,\u001b[0m\u001b[0mHF\u001b[0m\u001b[0;34m,\u001b[0m\u001b[0mHM\u001b[0m\u001b[0;34m,\u001b[0m\u001b[0mxmin\u001b[0m\u001b[0;34m,\u001b[0m\u001b[0mxmax\u001b[0m\u001b[0;34m)\u001b[0m\u001b[0;34m\u001b[0m\u001b[0;34m\u001b[0m\u001b[0m\n\u001b[0m",
      "\u001b[0;32m<ipython-input-8-bc4793cc3b2b>\u001b[0m in \u001b[0;36mApply1DHistogramClassifier\u001b[0;34m(queries, HF, HM, xmin, xmax)\u001b[0m\n\u001b[1;32m      8\u001b[0m     \u001b[0mindicesF\u001b[0m\u001b[0;34m=\u001b[0m\u001b[0mcountF\u001b[0m\u001b[0;34m>\u001b[0m\u001b[0mcountM\u001b[0m\u001b[0;34m;\u001b[0m\u001b[0;34m\u001b[0m\u001b[0;34m\u001b[0m\u001b[0m\n\u001b[1;32m      9\u001b[0m     \u001b[0mindicesM\u001b[0m\u001b[0;34m=\u001b[0m\u001b[0mcountM\u001b[0m\u001b[0;34m>\u001b[0m\u001b[0mcountF\u001b[0m\u001b[0;34m;\u001b[0m\u001b[0;34m\u001b[0m\u001b[0;34m\u001b[0m\u001b[0m\n\u001b[0;32m---> 10\u001b[0;31m     \u001b[0mresultlabel\u001b[0m\u001b[0;34m[\u001b[0m\u001b[0mindicesF\u001b[0m\u001b[0;34m]\u001b[0m\u001b[0;34m=\u001b[0m\u001b[0;34m\"Female\"\u001b[0m\u001b[0;34m;\u001b[0m\u001b[0;34m\u001b[0m\u001b[0;34m\u001b[0m\u001b[0m\n\u001b[0m\u001b[1;32m     11\u001b[0m     \u001b[0mresultlabel\u001b[0m\u001b[0;34m[\u001b[0m\u001b[0mindicesM\u001b[0m\u001b[0;34m]\u001b[0m\u001b[0;34m=\u001b[0m\u001b[0;34m\"Male\"\u001b[0m\u001b[0;34m;\u001b[0m\u001b[0;34m\u001b[0m\u001b[0;34m\u001b[0m\u001b[0m\n\u001b[1;32m     12\u001b[0m     \u001b[0mprobF\u001b[0m\u001b[0;34m=\u001b[0m\u001b[0mcountF\u001b[0m\u001b[0;34m/\u001b[0m\u001b[0;34m(\u001b[0m\u001b[0mcountF\u001b[0m\u001b[0;34m+\u001b[0m\u001b[0mcountM\u001b[0m\u001b[0;34m)\u001b[0m\u001b[0;34m;\u001b[0m\u001b[0;34m\u001b[0m\u001b[0;34m\u001b[0m\u001b[0m\n",
      "\u001b[0;31mIndexError\u001b[0m: too many indices for array"
     ],
     "output_type": "error"
    }
   ],
   "source": [
    "[resultHlabel, resultHprob]=Apply1DHistogramClassifier(queries,HF,HM,xmin,xmax)\n"
   ]
  },
  {
   "cell_type": "code",
   "execution_count": 18,
   "metadata": {},
   "outputs": [
    {
     "ename": "IndexError",
     "evalue": "too many indices for array",
     "traceback": [
      "\u001b[0;31m---------------------------------------------------------------------------\u001b[0m",
      "\u001b[0;31mIndexError\u001b[0m                                Traceback (most recent call last)",
      "\u001b[0;32m<ipython-input-18-a8dfc7f430d3>\u001b[0m in \u001b[0;36m<module>\u001b[0;34m\u001b[0m\n\u001b[0;32m----> 1\u001b[0;31m \u001b[0;34m[\u001b[0m\u001b[0mresultHlabel\u001b[0m\u001b[0;34m,\u001b[0m \u001b[0mresultHprob\u001b[0m\u001b[0;34m]\u001b[0m\u001b[0;34m=\u001b[0m\u001b[0mApply1DHistogramClassifier\u001b[0m\u001b[0;34m(\u001b[0m\u001b[0mqueries\u001b[0m\u001b[0;34m,\u001b[0m\u001b[0mHF\u001b[0m\u001b[0;34m,\u001b[0m\u001b[0mHM\u001b[0m\u001b[0;34m,\u001b[0m\u001b[0mxmin\u001b[0m\u001b[0;34m,\u001b[0m\u001b[0mxmax\u001b[0m\u001b[0;34m)\u001b[0m\u001b[0;34m\u001b[0m\u001b[0;34m\u001b[0m\u001b[0m\n\u001b[0m",
      "\u001b[0;32m<ipython-input-8-bc4793cc3b2b>\u001b[0m in \u001b[0;36mApply1DHistogramClassifier\u001b[0;34m(queries, HF, HM, xmin, xmax)\u001b[0m\n\u001b[1;32m      8\u001b[0m     \u001b[0mindicesF\u001b[0m\u001b[0;34m=\u001b[0m\u001b[0mcountF\u001b[0m\u001b[0;34m>\u001b[0m\u001b[0mcountM\u001b[0m\u001b[0;34m;\u001b[0m\u001b[0;34m\u001b[0m\u001b[0;34m\u001b[0m\u001b[0m\n\u001b[1;32m      9\u001b[0m     \u001b[0mindicesM\u001b[0m\u001b[0;34m=\u001b[0m\u001b[0mcountM\u001b[0m\u001b[0;34m>\u001b[0m\u001b[0mcountF\u001b[0m\u001b[0;34m;\u001b[0m\u001b[0;34m\u001b[0m\u001b[0;34m\u001b[0m\u001b[0m\n\u001b[0;32m---> 10\u001b[0;31m     \u001b[0mresultlabel\u001b[0m\u001b[0;34m[\u001b[0m\u001b[0mindicesF\u001b[0m\u001b[0;34m]\u001b[0m\u001b[0;34m=\u001b[0m\u001b[0;34m\"Female\"\u001b[0m\u001b[0;34m;\u001b[0m\u001b[0;34m\u001b[0m\u001b[0;34m\u001b[0m\u001b[0m\n\u001b[0m\u001b[1;32m     11\u001b[0m     \u001b[0mresultlabel\u001b[0m\u001b[0;34m[\u001b[0m\u001b[0mindicesM\u001b[0m\u001b[0;34m]\u001b[0m\u001b[0;34m=\u001b[0m\u001b[0;34m\"Male\"\u001b[0m\u001b[0;34m;\u001b[0m\u001b[0;34m\u001b[0m\u001b[0;34m\u001b[0m\u001b[0m\n\u001b[1;32m     12\u001b[0m     \u001b[0mprobF\u001b[0m\u001b[0;34m=\u001b[0m\u001b[0mcountF\u001b[0m\u001b[0;34m/\u001b[0m\u001b[0;34m(\u001b[0m\u001b[0mcountF\u001b[0m\u001b[0;34m+\u001b[0m\u001b[0mcountM\u001b[0m\u001b[0;34m)\u001b[0m\u001b[0;34m;\u001b[0m\u001b[0;34m\u001b[0m\u001b[0;34m\u001b[0m\u001b[0m\n",
      "\u001b[0;31mIndexError\u001b[0m: too many indices for array"
     ],
     "output_type": "error"
    }
   ],
   "source": [
    "[resultHlabel, resultHprob]=Apply1DHistogramClassifier(queries,HF,HM,xmin,xmax)\n"
   ]
  },
  {
   "cell_type": "code",
   "execution_count": 19,
   "metadata": {
    "scrolled": true
   },
   "outputs": [
    {
     "name": "stdout",
     "output_type": "stream",
     "text": [
      "[70. 76. 70. ... 69. 60. 64.]\n['Male' 'Male' 'Male' ... 'Male' 'Female' 'Female']\n"
     ]
    },
    {
     "name": "stdout",
     "output_type": "stream",
     "text": [
      "finished\n"
     ]
    }
   ],
   "source": [
    "#full data\n",
    "excelfile=r\"/Users/omerorhan/Desktop/UCSC/MachineLearning/Assignment_1_Data_and_Template.xlsx\";\n",
    "sheets=getSheetNames(excelfile);sheets\n",
    "\n",
    "data=readExcel(excelfile)\n",
    "X=np.array(data[:,0]*12+data[:,1],dtype=float)\n",
    "T=np.array([str(g) for g in data[:,2]])\n",
    "print(X)\n",
    "print(T)\n",
    "\n",
    "B=32;\n",
    "xmin=np.amin(X);\n",
    "xmax=np.amax(X);\n",
    "writeExcelData(np.array([xmin]),excelfile,'Classifiers - Full Data',1,2)\n",
    "writeExcelData(np.array([xmax]),excelfile,'Classifiers - Full Data',2,2)\n",
    "\n",
    "#print(\"xmax= %.2f\",xmax)\n",
    "#print(\"xmin= %.2f\",xmin)\n",
    "\n",
    "[HF,HM]=Build1DHistogramClassifier(X,T,B,xmin,xmax);\n",
    "#print(Build1DHistogramClassifier(X,T,B,xmin,xmax))\n",
    "#def writeExcelData(x,excelfile,sheetname,startrow,startcol):\n",
    "#print(HF)\n",
    "writeExcelData(HF,excelfile,'Classifiers - Full Data',5,3, True)\n",
    "writeExcelData(HM,excelfile,'Classifiers - Full Data',6,3, True)\n",
    "\n",
    "[resultHlabel, resultHprob]=Apply1DHistogramClassifier([55,60,65,70,75,80],HF,HM,xmin,xmax)\n",
    "writeExcelData(resultHlabel,excelfile,'Queries',3,2)\n",
    "writeExcelData(resultHprob,excelfile,'Queries',3,3)\n",
    "\n",
    "\n",
    "#print([resultHlabel, resultHprob])\n",
    "\n",
    "print(\"finished\")\n"
   ]
  },
  {
   "cell_type": "code",
   "execution_count": null,
   "metadata": {},
   "outputs": [],
   "source": []
  },
  {
   "cell_type": "code",
   "execution_count": 21,
   "metadata": {},
   "outputs": [
    {
     "name": "stdout",
     "output_type": "stream",
     "text": [
      "2.0\n[130. 148. 130. ... 129. 120. 124.]\n"
     ]
    },
    {
     "name": "stdout",
     "output_type": "stream",
     "text": [
      "finished\n8900\n"
     ]
    }
   ],
   "source": [
    "#FULL DATA\n",
    "def mean(numbers):\n",
    "    return float(sum(numbers)) / max(len(numbers), 1)\n",
    "\n",
    "print(mean([1,2,3]))\n",
    "\n",
    "X=np.array(data[:,0]*12+data[:,1],dtype=float)\n",
    "data[:,1]= X\n",
    "#print(data)\n",
    "T=np.array([str(g) for g in data[:,2]])\n",
    "\n",
    "#np.select(data[:,2]=='Female', data[,1])\n",
    "femaledata = (data[data[:,2]=='Female'])\n",
    "maledata = (data[data[:,2]=='Male'])\n",
    "print(X)\n",
    "#print(maledata[:,[1]].std()) \n",
    "meanFemale= femaledata[:,[1]].mean()\n",
    "meanMale = maledata[:,[1]].mean()\n",
    "writeExcelData([femaledata[:,[1]].mean()],excelfile,'Classifiers - Full Data',8,3)\n",
    "writeExcelData([maledata[:,[1]].mean()],excelfile,'Classifiers - Full Data',9,3)\n",
    "\n",
    "stdfemale= femaledata[:,[1]].std()\n",
    "stdmale=maledata[:,[1]].std()\n",
    "writeExcelData([femaledata[:,[1]].std()],excelfile,'Classifiers - Full Data',11,3)\n",
    "writeExcelData([maledata[:,[1]].std()],excelfile,'Classifiers - Full Data',12,3)\n",
    "\n",
    "writeExcelData([len(femaledata[:,[1]])],excelfile,'Classifiers - Full Data',14,3)\n",
    "writeExcelData([len(maledata[:,[1]])],excelfile,'Classifiers - Full Data',15,3)\n",
    "\n",
    "print('finished')\n",
    "print(len(femaledata[:,[1]]))"
   ]
  },
  {
   "cell_type": "code",
   "execution_count": null,
   "metadata": {},
   "outputs": [],
   "source": []
  },
  {
   "cell_type": "code",
   "execution_count": null,
   "metadata": {},
   "outputs": [],
   "source": []
  },
  {
   "cell_type": "code",
   "execution_count": null,
   "metadata": {},
   "outputs": [],
   "source": [
    "def Apply1DHistogramClassifier(queries,HF,HM,xmin,xmax):\n",
    "    B=np.alen(HF);\n",
    "    binindices=np.clip((np.round(((B-1)*(queries-xmin)/(xmax-xmin)))).astype('int32'),0,B-1);\n",
    "    countF=HF[binindices];\n",
    "    countM=HM[binindices];\n",
    "    resultlabel=np.full(np.alen(binindices),\"Indeterminate\",dtype=object);\n",
    "    resultprob=np.full(np.alen(binindices),np.nan,dtype=object);\n",
    "    indicesF=countF>countM;\n",
    "    indicesM=countM>countF;\n",
    "    resultlabel[indicesF]=\"Female\";\n",
    "    resultlabel[indicesM]=\"Male\";\n",
    "    probF=countF/(countF+countM);\n",
    "    print(probF)\n",
    "    probM=countM/(countF+countM);\n",
    "    resultprob[indicesF]=probF[indicesF];\n",
    "    resultprob[indicesM]=probM[indicesM];\n",
    "    return resultlabel, resultprob\n",
    "\n"
   ]
  },
  {
   "cell_type": "code",
   "execution_count": null,
   "metadata": {},
   "outputs": [],
   "source": [
    "import math\n",
    "def calculateProbability(x, mean, stdev):\n",
    "\texponent = math.exp(-(math.pow(x-mean,2)/(2*math.pow(stdev,2))))\n",
    "\treturn (1 / (math.sqrt(2*math.pi) * stdev)) * exponent\n",
    "resultlabel1=[]\n",
    "problabel=[]\n",
    "liste = [65]\n",
    "\n",
    "print(calculateProbability(65,meanMale,stdmale))"
   ]
  },
  {
   "cell_type": "code",
   "execution_count": 22,
   "metadata": {},
   "outputs": [
    {
     "name": "stdout",
     "output_type": "stream",
     "text": [
      "7800\n8900\n"
     ]
    },
    {
     "name": "stdout",
     "output_type": "stream",
     "text": [
      "finished\n"
     ]
    }
   ],
   "source": [
    "import math\n",
    "def calculateProbability(x, mean, stdev):\n",
    "\texponent = math.exp(-(math.pow(x-mean,2)/(2*math.pow(stdev,2))))\n",
    "\treturn (1 / (math.sqrt(2*math.pi) * stdev)) * exponent\n",
    "\n",
    "#meanFemale,meanMale,stdfemale,stdmale\n",
    "resultlabel1=[]\n",
    "problabel=[]\n",
    "liste = [55,60,65,70,75,80]\n",
    "print(len(maledata))\n",
    "print(len(femaledata))\n",
    "\n",
    "for item in liste: \n",
    "    maleProb= len(maledata)*calculateProbability(item,meanMale,stdmale)\n",
    "    femaleprob= len(femaledata)*calculateProbability(item,meanFemale,stdfemale)\n",
    "    maleProb= maleProb/(maleProb+femaleprob)\n",
    "    femaleprob= femaleprob/(maleProb+femaleprob)\n",
    "\n",
    "    if maleProb >femaleprob:\n",
    "        resultlabel1.append('Male')\n",
    "        problabel.append(maleProb)\n",
    "    else:\n",
    "        resultlabel1.append('Female')\n",
    "        problabel.append(femaleprob)\n",
    "\n",
    "writeExcelData(resultlabel1,excelfile,'Queries',3,4)\n",
    "writeExcelData(problabel,excelfile,'Queries',3,5)\n",
    "print('finished')"
   ]
  },
  {
   "cell_type": "code",
   "execution_count": null,
   "metadata": {},
   "outputs": [],
   "source": []
  },
  {
   "cell_type": "code",
   "execution_count": null,
   "metadata": {},
   "outputs": [],
   "source": [
    "import math\n",
    "def calculateProbability(x, mean, stdev):\n",
    "\texponent = math.exp(-(math.pow(x-mean,2)/(2*math.pow(stdev,2))))\n",
    "\treturn (1 / (math.sqrt(2*math.pi) * stdev)) * exponent\n",
    "\n",
    "#meanFemale,meanMale,stdfemale,stdmale\n",
    "resultlabel1=[]\n",
    "problabel=[]\n",
    "liste = [55]\n",
    "for item in liste: \n",
    "    maleProb= len(maledata[:,[1]])*calculateProbability(item,meanMale,stdmale)   \n",
    "    femaleprob= len(femaledata[:,[1]]) * calculateProbability(item,meanFemale,stdfemale)\n",
    "\n",
    "    print(maleProb)\n",
    "    print(femaleprob)\n",
    "print('finished')"
   ]
  },
  {
   "cell_type": "code",
   "execution_count": null,
   "metadata": {},
   "outputs": [],
   "source": [
    "def calculateClassProbabilities(summaries, inputVector):\n",
    "\tprobabilities = {}\n",
    "\tfor classValue, classSummaries in summaries.iteritems():\n",
    "\t\tprobabilities[classValue] = 1\n",
    "\t\tfor i in range(len(classSummaries)):\n",
    "\t\t\tmean, stdev = classSummaries[i]\n",
    "\t\t\tx = inputVector[i]\n",
    "\t\t\tprobabilities[classValue] *= calculateProbability(x, mean, stdev)\n",
    "\treturn probabilities"
   ]
  },
  {
   "cell_type": "code",
   "execution_count": 23,
   "metadata": {},
   "outputs": [
    {
     "name": "stderr",
     "output_type": "stream",
     "text": [
      "/anaconda3/lib/python3.7/site-packages/ipykernel_launcher.py:12: RuntimeWarning: invalid value encountered in true_divide\n  if sys.path[0] == '':\n/anaconda3/lib/python3.7/site-packages/ipykernel_launcher.py:13: RuntimeWarning: invalid value encountered in true_divide\n  del sys.path[0]\n"
     ]
    },
    {
     "name": "stdout",
     "output_type": "stream",
     "text": [
      "[array(['Female', 'Indeterminate', 'Female', 'Male', 'Male', 'Male'],\n      dtype=object), array([1.0, nan, 1.0, 1.0, 1.0, 1.0], dtype=object)]\nfinished\n"
     ]
    }
   ],
   "source": [
    "#partial data\n",
    "excelfile=r\"/Users/omerorhan/Desktop/UCSC/MachineLearning/Assignment_1_Data_and_Template.xlsx\";\n",
    "sheets=getSheetNames(excelfile);sheets\n",
    "\n",
    "data=readExcel(excelfile)\n",
    "data = data[0:50]\n",
    "X=np.array(data[:,0]*12+data[:,1],dtype=float)\n",
    "T=np.array([str(g) for g in data[:,2]])\n",
    "B=32;\n",
    "\n",
    "writeExcelData(np.array([xmin]),excelfile,'Classifiers - Partial Data',1,2)\n",
    "writeExcelData(np.array([xmax]),excelfile,'Classifiers - Partial Data',2,2)\n",
    "\n",
    "\n",
    "\n",
    "[HF,HM]=Build1DHistogramClassifier(X,T,B,xmin,xmax);\n",
    "#print(Build1DHistogramClassifier(X,T,B,xmin,xmax))\n",
    "#def writeExcelData(x,excelfile,sheetname,startrow,startcol):\n",
    "writeExcelData(HF,excelfile,'Classifiers - Partial Data',5,3, True)\n",
    "writeExcelData(HM,excelfile,'Classifiers - Partial Data',6,3, True)\n",
    "\n",
    "\n",
    "[resultHlabel, resultHprob]=Apply1DHistogramClassifier([55,60,65,70,75,80],HF,HM,xmin,xmax)\n",
    "writeExcelData(resultHlabel,excelfile,'Queries',12,2)\n",
    "writeExcelData(resultHprob,excelfile,'Queries',12,3)\n",
    "print([resultHlabel, resultHprob])\n",
    "\n",
    "print('finished')"
   ]
  },
  {
   "cell_type": "code",
   "execution_count": 24,
   "metadata": {},
   "outputs": [
    {
     "data": {
      "image/png": "[encoded data removed]",
      "text/plain": [
       "<Figure size 720x360 with 1 Axes>"
      ]
     },
     "metadata": {},
     "output_type": "display_data"
    }
   ],
   "source": [
    "\n",
    "plt.figure(figsize=(10,5));\n",
    "opacity = 0.5\n",
    "[bincenters,binwidth]=np.linspace(xmin, xmax, num=B, retstep=True);\n",
    "rects1 = plt.bar(bincenters-(binwidth/2), HF, binwidth,\n",
    "                 alpha=opacity,\n",
    "                 color='pink',\n",
    "                 edgecolor='black',\n",
    "                 label='Female')\n",
    "rects2 = plt.bar(bincenters+(binwidth/2), HM, binwidth,\n",
    "                 alpha=opacity,\n",
    "                 color='b',\n",
    "                 edgecolor='black',\n",
    "                 label='Male')\n",
    "plt.xlabel('Height')\n",
    "plt.ylabel('Count')\n",
    "plt.xticks(bincenters, bincenters.astype('int32'), fontsize=10)\n",
    "plt.legend()\n",
    "plt.show()\n"
   ]
  },
  {
   "cell_type": "code",
   "execution_count": 25,
   "metadata": {},
   "outputs": [
    {
     "name": "stdout",
     "output_type": "stream",
     "text": [
      "[0 0 0 0 0 0 0 0 0 0 0 0 0 0 2 1 0 2 3 3 2 1 4 1 2 0 0 0 1 0 0 0]\n32\nsdasd[ 3  8 13 18 23 28]\n['Indeterminate' 'Indeterminate' 'Indeterminate' 'Indeterminate'\n 'Indeterminate' 'Indeterminate']\n[ 1. nan  1.  0.  0.  0.]\n"
     ]
    },
    {
     "name": "stderr",
     "output_type": "stream",
     "text": [
      "/anaconda3/lib/python3.7/site-packages/ipykernel_launcher.py:17: RuntimeWarning: invalid value encountered in true_divide\n/anaconda3/lib/python3.7/site-packages/ipykernel_launcher.py:19: RuntimeWarning: invalid value encountered in true_divide\n"
     ]
    }
   ],
   "source": [
    "def Apply1DHistogramClassifier(queries,HF,HM,xmin,xmax):\n",
    "    B=np.alen(HF);\n",
    "    print(B)\n",
    "    binindices=np.clip((np.round(((B-1)*(queries-xmin)/(xmax-xmin)))).astype('int32'),0,B-1);\n",
    "    print(\"sdasd\"+str(binindices))\n",
    "    countF=HF[binindices];\n",
    "    countM=HM[binindices];\n",
    "\n",
    "    resultlabel=np.full(np.alen(binindices),\"Indeterminate\",dtype=object);\n",
    "    resultprob=np.full(np.alen(binindices),np.nan,dtype=object);\n",
    "    print(resultlabel)\n",
    "\n",
    "    indicesF=countF>countM;\n",
    "    indicesM=countM>countF;\n",
    "    resultlabel[indicesF]=\"Female\";\n",
    "    resultlabel[indicesM]=\"Male\";\n",
    "    probF=countF/(countF+countM);\n",
    "    print(probF)\n",
    "    probM=countM/(countF+countM);\n",
    "    resultprob[indicesF]=probF[indicesF];\n",
    "    resultprob[indicesM]=probM[indicesM];\n",
    "    return resultlabel, resultprob\n",
    "print(HM)\n",
    "[resultHlabel, resultHprob]=Apply1DHistogramClassifier([55,60,65,70,75,80],HF,HM,xmin,xmax)\n"
   ]
  },
  {
   "cell_type": "code",
   "execution_count": null,
   "metadata": {},
   "outputs": [],
   "source": [
    "binindices=np.clip(8,0,31);\n",
    "print(binindices)"
   ]
  },
  {
   "cell_type": "code",
   "execution_count": 26,
   "metadata": {},
   "outputs": [
    {
     "name": "stdout",
     "output_type": "stream",
     "text": [
      "[70. 76. 70. 69. 67. 72. 71. 69. 65. 62. 67. 71. 70. 75. 74. 58. 69. 64.\n 74. 76. 69. 73. 66. 74. 62. 62. 65. 71. 64. 74. 64. 69. 72. 63. 63. 55.\n 62. 65. 80. 64. 66. 61. 71. 66. 68. 66. 69. 66. 56. 59.]\n"
     ]
    },
    {
     "name": "stdout",
     "output_type": "stream",
     "text": [
      "finished\n"
     ]
    }
   ],
   "source": [
    "def mean(numbers):\n",
    "    return float(sum(numbers)) / max(len(numbers), 1)\n",
    "\n",
    "X=np.array(data[:,0]*12+data[:,1],dtype=float)\n",
    "data[:,1]= X\n",
    "#print(data)\n",
    "T=np.array([str(g) for g in data[:,2]])\n",
    "\n",
    "#np.select(data[:,2]=='Female', data[,1])\n",
    "femaledata = (data[data[:,2]=='Female'])\n",
    "maledata = (data[data[:,2]=='Male'])\n",
    "print(X)\n",
    "#print(maledata[:,[1]].std()) \n",
    "meanFemale= femaledata[:,[1]].mean()\n",
    "meanMale = maledata[:,[1]].mean()\n",
    "writeExcelData([femaledata[:,[1]].mean()],excelfile,'Classifiers - Partial Data',8,3)\n",
    "writeExcelData([maledata[:,[1]].mean()],excelfile,'Classifiers - Partial Data',9,3)\n",
    "\n",
    "stdfemale= femaledata[:,[1]].std()\n",
    "stdmale=maledata[:,[1]].std()\n",
    "writeExcelData([femaledata[:,[1]].std()],excelfile,'Classifiers - Partial Data',11,3)\n",
    "writeExcelData([maledata[:,[1]].std()],excelfile,'Classifiers - Partial Data',12,3)\n",
    "\n",
    "writeExcelData([len(femaledata[:,[1]])],excelfile,'Classifiers - Partial Data',14,3)\n",
    "writeExcelData([len(maledata[:,[1]])],excelfile,'Classifiers - Partial Data',15,3)\n",
    "\n",
    "\n",
    "\n",
    "print('finished')"
   ]
  },
  {
   "cell_type": "code",
   "execution_count": 28,
   "metadata": {},
   "outputs": [
    {
     "name": "stdout",
     "output_type": "stream",
     "text": [
      "282.8512396694213\n22.842975206611577\n82.29081632653057\n30.132653061224488\n139.6694214876032\n22.842975206611577\n16.57653061224488\n30.132653061224488\n46.48760330578505\n22.842975206611577\n0.8622448979591875\n30.132653061224488\n3.305785123966923\n22.842975206611577\n35.14795918367349\n30.132653061224488\n10.123966942148794\n22.842975206611577\n119.4336734693878\n30.132653061224488\n66.94214876033067\n22.842975206611577\n253.7193877551021\n30.132653061224488\n"
     ]
    },
    {
     "name": "stdout",
     "output_type": "stream",
     "text": [
      "[0.9996905132460884, 0.9979281858707983, 0.9627485939752045, 0.714847260280245, 0.9682537291336183, 0.9954445569814462]\n"
     ]
    }
   ],
   "source": [
    "import math\n",
    "def calculateProbability(x, mean, stdev):\n",
    "    print(math.pow(x-mean,2))\n",
    "    print((2*math.pow(stdev,2)))\n",
    "    exponent = math.exp(-(math.pow(x-mean,2)/(2*math.pow(stdev,2))))\n",
    "    return (1 / (math.sqrt(2*math.pi) * stdev)) * exponent\n",
    "\n",
    "#meanFemale,meanMale,stdfemale,stdmale\n",
    "resultlabel1=[]\n",
    "problabel=[]\n",
    "liste = [55,60,65,70,75,80]\n",
    "\n",
    "for item in liste:\n",
    "    maleProb= len(maledata)*calculateProbability(item,meanMale,stdmale)\n",
    "    femaleprob= len(femaledata)*calculateProbability(item,meanFemale,stdfemale)\n",
    "    maleProb= maleProb/(maleProb+femaleprob)\n",
    "    femaleprob= femaleprob/(maleProb+femaleprob)\n",
    "\n",
    "    if len(maledata[:,[1]])*maleProb >len(femaledata[:,[1]])*femaleprob:\n",
    "        resultlabel1.append('Male')\n",
    "        problabel.append(maleProb)\n",
    "    else:\n",
    "        resultlabel1.append('Female')\n",
    "        problabel.append(femaleprob)\n",
    "\n",
    "\n",
    "#print(resultlabel1)\n",
    "#print(problabel)\n",
    "\n",
    "writeExcelData(resultlabel1,excelfile,'Queries',12,4)\n",
    "writeExcelData(problabel,excelfile,'Queries',12,5)\n",
    "print(problabel)"
   ]
  }
 ],
 "metadata": {
  "kernelspec": {
   "display_name": "Python 3",
   "language": "python",
   "name": "python3"
  },
  "language_info": {
   "codemirror_mode": {
    "name": "ipython",
    "version": 3
   },
   "file_extension": ".py",
   "mimetype": "text/x-python",
   "name": "python",
   "nbconvert_exporter": "python",
   "pygments_lexer": "ipython3",
   "version": "3.5.2"
  },
  "widgets": {
   "state": {},
   "version": "1.1.2"
  }
 },
 "nbformat": 4,
 "nbformat_minor": 2
}
