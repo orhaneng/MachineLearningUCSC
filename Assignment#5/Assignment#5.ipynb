{
 "cells": [
  {
   "cell_type": "code",
   "execution_count": 6,
   "metadata": {
    "collapsed": true
   },
   "outputs": [
    {
     "data": {
      "text/plain": [
       "'\\nAssignment 5\\nSubmit Assignment\\nA biometrics database contains height and handspan measurements collected from a large number of individuals.\\n Presumably, that population consists of adult females, adult males and children. \\n The class labels have not been provided in the database. The database is attached.\\n1.\\tUse the Expectation Maximization algorithm to figure out the class (F, M, or C) of each sample. \\nNote: You may use a module such as scikit-learn. You do not need to implement the algorithm from scratch\\n2.\\tEstimate the confidence of each prediction by computing the posterior probability\\n3.\\tEstimate the number of adult females, adult males and children in the population\\nAssignment_5_Data_and_Template.xlsx \\n\\n'"
      ]
     },
     "execution_count": 6,
     "metadata": {},
     "output_type": "execute_result"
    }
   ],
   "source": [
    "\"\"\"\n",
    "Assignment 5\n",
    "Submit Assignment\n",
    "A biometrics database contains height and handspan measurements collected from a large number of individuals.\n",
    " Presumably, that population consists of adult females, adult males and children. \n",
    " The class labels have not been provided in the database. The database is attached.\n",
    "1.\tUse the Expectation Maximization algorithm to figure out the class (F, M, or C) of each sample. \n",
    "Note: You may use a module such as scikit-learn. You do not need to implement the algorithm from scratch\n",
    "2.\tEstimate the confidence of each prediction by computing the posterior probability\n",
    "3.\tEstimate the number of adult females, adult males and children in the population\n",
    "Assignment_5_Data_and_Template.xlsx \n",
    "\n",
    "\"\"\""
   ]
  },
  {
   "cell_type": "code",
   "execution_count": 8,
   "metadata": {
    "collapsed": true
   },
   "outputs": [
    {
     "name": "stdout",
     "output_type": "stream",
     "text": [
      "[[  9.99784151e-01   2.15849003e-04   3.35546140e-10]\n [  8.32161958e-11   1.86039019e-04   9.99813961e-01]\n [  5.56941084e-11   1.49185385e-05   9.99985081e-01]\n ..., \n [  9.17149741e-01   8.28492129e-02   1.04648866e-06]\n [  9.89922164e-01   1.00712042e-02   6.63193307e-06]\n [  2.30198002e-04   4.98001909e-03   9.94789783e-01]]\n"
     ]
    },
    {
     "data": {
      "text/plain": [
       "<matplotlib.collections.PathCollection at 0x1150e1780>"
      ]
     },
     "execution_count": 8,
     "metadata": {},
     "output_type": "execute_result"
    },
    {
     "data": {
      "image/png": "[encoded data removed]",
      "text/plain": [
       "<Figure size 432x288 with 1 Axes>"
      ]
     },
     "metadata": {},
     "output_type": "display_data"
    }
   ],
   "source": [
    "import numpy as np\n",
    "from matplotlib import pyplot as plt\n",
    "import numpy as np\n",
    "import pandas as pd\n",
    "import matplotlib.pyplot as plt\n",
    "from pandas import DataFrame\n",
    "from sklearn import datasets\n",
    "from sklearn.mixture import GaussianMixture\n",
    "\n",
    "def getSheetNames(excelfile):\n",
    "    from pandas import ExcelFile\n",
    "    return (ExcelFile(excelfile)).sheet_names\n",
    "\n",
    "def readExcelSheet1(excelfile):\n",
    "    from pandas import read_excel\n",
    "    return (read_excel(excelfile)).values\n",
    "\n",
    "def readExcelRange(excelfile, sheetname=\"Sheet1\", startrow=1, endrow=1, startcol=1, endcol=1):\n",
    "    from pandas import read_excel\n",
    "    values = (read_excel(excelfile, sheetname, header=None)).values;\n",
    "    return values[startrow - 1:endrow, startcol - 1:endcol]\n",
    "\n",
    "def readExcel(excelfile, **args):\n",
    "    if args:\n",
    "        data = readExcelRange(excelfile, **args)\n",
    "    else:\n",
    "        data = readExcelSheet1(excelfile)\n",
    "    if data.shape == (1, 1):\n",
    "        return data[0, 0]\n",
    "    elif (data.shape)[0] == 1:\n",
    "        return data[0]\n",
    "    else:\n",
    "        return data\n",
    "def writeExcelData(x, excelfile, sheetname, startrow, startcol, reshape=None):\n",
    "    from pandas import DataFrame, ExcelWriter\n",
    "    from openpyxl import load_workbook\n",
    "    if reshape:\n",
    "        df = DataFrame(x.reshape(-1, len(x)))\n",
    "    else:\n",
    "        df = DataFrame(x)\n",
    "    book = load_workbook(excelfile)\n",
    "    writer = ExcelWriter(excelfile, engine='openpyxl')\n",
    "    writer.book = book\n",
    "    writer.sheets = dict((ws.title, ws) for ws in book.worksheets)\n",
    "    df.to_excel(writer, sheet_name=sheetname, startrow=startrow - 1, startcol=startcol - 1, header=False, index=False)\n",
    "    writer.save()\n",
    "    writer.close()\n",
    "\n",
    "\n",
    "excelfile = r\"/Users/omerorhan/Desktop/UCSC/MachineLearning/Assignments/venv/notebookfiles/\" \\\n",
    "            r\"Assignment#5/Assignment_5_Data_and_Template.xlsx\";\n",
    "sheets = getSheetNames(excelfile)\n",
    "sheets\n",
    "\n",
    "dataset = readExcel(excelfile)\n",
    "\n",
    "data = dataset\n",
    "data[:, 0] = data[:, 0] * 2.54\n",
    "\n",
    "plt.scatter(data[:, 0], data[:, 1])\n",
    "gmm = GaussianMixture(n_components=3, random_state=0, covariance_type=\"full\", max_iter=100, n_init=100, \n",
    "                      init_params=\"kmeans\")\n",
    "\n",
    "gmm.fit(data)\n",
    "\n",
    "probs = gmm.predict_proba(data)\n",
    "print(probs)\n",
    "labels = gmm.predict(data)\n",
    "\n",
    "labels = DataFrame(labels)\n",
    "labels[labels == 0] = \"F\"\n",
    "labels[labels == 1] = \"M\"\n",
    "labels[labels == 2] = \"C\"\n",
    "male = \"M\"\n",
    "female = \"F\"\n",
    "child = \"C\"\n",
    "writeExcelData(labels, excelfile, \"Results\", 2, 1)\n",
    "writeExcelData([labels[labels == \"M\"].count()], excelfile, \"Results\", 2, 6)\n",
    "writeExcelData([labels[labels == \"F\"].count()], excelfile, \"Results\", 3, 6)\n",
    "writeExcelData([labels[labels == \"C\"].count()], excelfile, \"Results\", 4, 6)\n",
    "\n",
    "d = DataFrame(data)\n",
    "d['labels'] = labels\n",
    "d0 = d[d['labels'] == \"C\"]\n",
    "d1 = d[d['labels'] == \"M\"]\n",
    "d2 = d[d['labels'] == \"F\"]\n",
    "\n",
    "# plot three clusters in same plot \n",
    "plt.scatter(d0[0], d0[1], c='r')\n",
    "plt.scatter(d1[0], d1[1], c='yellow')\n",
    "plt.scatter(d2[0], d2[1], c='g')\n"
   ]
  },
  {
   "cell_type": "code",
   "execution_count": 7,
   "metadata": {},
   "outputs": [
    {
     "name": "stdout",
     "output_type": "stream",
     "text": [
      "F\n"
     ]
    }
   ],
   "source": [
    "problbl = np.zeros((labels.shape[0]))\n",
    "\n",
    "N = labels.shape[0]\n",
    "print(labels[0][0])\n",
    "\n",
    "for i in range(N):\n",
    "    if labels[0][i] == male:\n",
    "        problbl[i] = probs[i, 1] * 100\n",
    "    elif labels[0][i] == female:\n",
    "        problbl[i] = probs[i, 0] * 100\n",
    "    else:\n",
    "        problbl[i] = probs[i, 2] * 100\n",
    "\n",
    "writeExcelData(problbl, excelfile, 'Results', 2, 2)\n"
   ]
  },
  {
   "cell_type": "code",
   "execution_count": 9,
   "metadata": {},
   "outputs": [],
   "source": [
    ""
   ]
  }
 ],
 "metadata": {
  "kernelspec": {
   "display_name": "Python 2",
   "language": "python",
   "name": "python2"
  },
  "language_info": {
   "codemirror_mode": {
    "name": "ipython",
    "version": 2
   },
   "file_extension": ".py",
   "mimetype": "text/x-python",
   "name": "python",
   "nbconvert_exporter": "python",
   "pygments_lexer": "ipython2",
   "version": "2.7.6"
  }
 },
 "nbformat": 4,
 "nbformat_minor": 0
}
