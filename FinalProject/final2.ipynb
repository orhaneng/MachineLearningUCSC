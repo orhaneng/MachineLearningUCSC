{
 "cells": [
  {
   "cell_type": "code",
   "execution_count": 3,
   "metadata": {
    "collapsed": true
   },
   "outputs": [],
   "source": [
    "import numpy as np # linear algebra\n",
    "import pandas as pd # data processing, CSV file I/O (e.g. pd.read_csv)\n",
    "import seaborn as sns\n",
    "import matplotlib.pyplot as plt\n",
    "from sklearn.linear_model import LinearRegression\n",
    "from sklearn.linear_model import Lasso\n",
    "from sklearn.linear_model import Ridge\n",
    "from sklearn.metrics import explained_variance_score,accuracy_score, r2_score\n",
    "from sklearn.metrics import mean_absolute_error,mean_squared_error\n",
    "from sklearn.neighbors import KNeighborsRegressor\n",
    "from sklearn.model_selection import train_test_split\n",
    "from sklearn.ensemble import RandomForestRegressor\n",
    "from sklearn.svm import SVR\n"
   ]
  },
  {
   "cell_type": "code",
   "execution_count": 113,
   "metadata": {},
   "outputs": [
    {
     "name": "stdout",
     "output_type": "stream",
     "text": [
      "Linear Regression\n(487, 12)\nMean squared error: 319.54\n(98, 12)\n(98,)\n(98,)\n"
     ]
    },
    {
     "data": {
      "image/png": "[encoded data removed]",
      "text/plain": [
       "<Figure size 432x288 with 1 Axes>"
      ]
     },
     "metadata": {},
     "output_type": "display_data"
    }
   ],
   "source": [
    "\n",
    "import numpy as np # linear algebra\n",
    "import pandas as pd # data processing, CSV file I/O (e.g. pd.read_csv)\n",
    "import seaborn as sns\n",
    "import matplotlib.pyplot as plt\n",
    "from sklearn.linear_model import LinearRegression\n",
    "from sklearn.linear_model import Lasso\n",
    "from sklearn.linear_model import Ridge\n",
    "from sklearn.metrics import explained_variance_score,accuracy_score, r2_score\n",
    "from sklearn.metrics import mean_absolute_error,mean_squared_error\n",
    "from sklearn.neighbors import KNeighborsRegressor\n",
    "from sklearn.model_selection import train_test_split\n",
    "from sklearn.ensemble import RandomForestRegressor\n",
    "from sklearn.svm import SVR\n",
    "\n",
    "dataset = pd.read_csv('/Users/omerorhan/Desktop/UCSC/MachineLearning/Assignments/venv/notebookfiles'\n",
    "                      '/FinalProject/forestfires.csv')\n",
    "dataset.month.replace(('jan','feb','mar','apr','may','jun','jul','aug','sep','oct','nov','dec'),(1,2,3,4,5,6,7,8,9,10,11,12), inplace=True)\n",
    "dataset.day.replace(('mon','tue','wed','thu','fri','sat','sun'),(1,2,3,4,5,6,7), inplace =True)\n",
    "dataset = dataset[dataset.apply(lambda x: np.abs(x - x.mean()) / x.std() < 3).all(axis=1)]\n",
    "\n",
    "data = dataset.values\n",
    "X = data[:,0:12]\n",
    "#print(X.head)\n",
    "Y = data[:, 12]\n",
    "\n",
    "print(\"Linear Regression\")\n",
    "Lreg = KNeighborsRegressor()\n",
    "print(X.shape)\n",
    "\n",
    "X_train, X_test, y_train, y_test = train_test_split(X, Y, test_size=0.2,random_state=42)\n",
    "\n",
    "reg= Lreg.fit(X_train, y_train)\n",
    "prediction = Lreg.predict(X_test)\n",
    "print(\"Mean squared error: %.2f\"\n",
    "      % mean_squared_error(y_test, prediction))\n",
    "print(X_test.shape)\n",
    "print(y_test.shape)\n",
    "print(prediction.shape)\n",
    "plt.scatter(X_test[:,0], y_test,  color='black')\n",
    "plt.plot(X_test, prediction, color='blue', linewidth=3)\n",
    "\n",
    "plt.xticks(())\n",
    "plt.yticks(())\n",
    "plt.show()"
   ]
  },
  {
   "cell_type": "code",
   "execution_count": 14,
   "metadata": {},
   "outputs": [
    {
     "name": "stdout",
     "output_type": "stream",
     "text": [
      "Linear Regression\n(413,)\n"
     ]
    },
    {
     "data": {
      "text/plain": [
       "\"\\nprint(X_test.shape)\\nprint(y_test.shape)\\nprint(prediction.shape)\\nplt.scatter(X_test[:,0], y_test,  color='black')\\nplt.plot(X_test, prediction, color='blue', linewidth=3)\\n\\nplt.xticks(())\\nplt.yticks(())\\n\\nplt.show()\\n\""
      ]
     },
     "execution_count": 14,
     "metadata": {},
     "output_type": "execute_result"
    }
   ],
   "source": [
    "from sklearn.preprocessing import OneHotEncoder, StandardScaler\n",
    "\n",
    "data = dataset.values\n",
    "\n",
    "X = data[:,0]\n",
    "Y = data[:, 12]\n",
    "print(\"Linear Regression\")\n",
    "Lreg = LinearRegression()\n",
    "X_train, X_test, y_train, y_test = train_test_split(X, Y, test_size=0.2, random_state=42)\n",
    "print(X_train.shape)\n",
    "#reg= Lreg.fit(X_train, y_train)\n",
    "#print(\"score:%.2f\"\n",
    "#      % reg.score(X_test, y_test)\n",
    "#)\n",
    "#prediction = Lreg.predict(X_test)\n",
    "#print(Lreg.coef_)\n",
    "#The mean squared error tells you how close a regression line is to a set of points.It does this by taking \n",
    "# the distances from the points to the regression line (these distances are the “errors”) and squaring \n",
    "# them. ... It's called the mean squared error as you're finding the average of a set of errors.\n",
    "\n",
    "#print(\"Mean squared error: %.2f\"\n",
    "#      % mean_squared_error(y_test, prediction))\n",
    "#I used score instead of accuracy score because it is  regression instead of classification.\n",
    "\n",
    "#print(explained_variance_score(y_test, prediction))\n",
    "#print('Variance score: %.2f' % r2_score(y_test, prediction))\n",
    "\n",
    "# Plot outputs\n",
    "\n",
    "'''\n",
    "print(X_test.shape)\n",
    "print(y_test.shape)\n",
    "print(prediction.shape)\n",
    "plt.scatter(X_test[:,0], y_test,  color='black')\n",
    "plt.plot(X_test, prediction, color='blue', linewidth=3)\n",
    "\n",
    "plt.xticks(())\n",
    "plt.yticks(())\n",
    "\n",
    "plt.show()\n",
    "'''\n"
   ]
  }
 ],
 "metadata": {
  "kernelspec": {
   "display_name": "Python 2",
   "language": "python",
   "name": "python2"
  },
  "language_info": {
   "codemirror_mode": {
    "name": "ipython",
    "version": 2
   },
   "file_extension": ".py",
   "mimetype": "text/x-python",
   "name": "python",
   "nbconvert_exporter": "python",
   "pygments_lexer": "ipython2",
   "version": "2.7.6"
  }
 },
 "nbformat": 4,
 "nbformat_minor": 0
}
