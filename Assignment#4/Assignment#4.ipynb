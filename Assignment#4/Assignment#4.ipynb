{
 "cells": [
  {
   "cell_type": "code",
   "execution_count": 39,
   "metadata": {
    "collapsed": true
   },
   "outputs": [
    {
     "data": {
      "text/plain": [
       "'\\nAssignment 4\\n1.\\tImport training data provided in Assignment_4_Data_and_Template.xlsx \\n2.\\tUse the pseudoinverse method on the given training data to build two linear classifiers: (i) \\na binary classifier, and (ii) a multiclass classifier capable of distinguishing between 6 classes. \\nThe sheet titled \"Training Data\" contains the target class labels (Failure and Type). \\nPaste your classifiers in the correct format as shown in the sheet titled \"Classifiers\"\\n3.\\tApply the classifiers to the data provided in the sheet \"To be classified.\" \\nPaste the results into the sheet.\\n4.\\tEvaluate the performance of your classifiers using the metrics requested in the sheet \"Performance\"\\nFor guidance, see slides titled \"Step-by-step: Linear Classifier Design\" in the lecture on linear \\nclassifiers.\\nA completed spreadsheet is your submission. Except for writing results into the correct cells, \\ndo not alter the spreadsheets in any other way.\\n \\nExtra Credit Opportunity: \\nFlex your linear algebra muscles, mindfully!\\nRefer to the slide titled \"What the pseudoinverse does\"\\n•\\tIn the context of Assignment 4, what does  wbest represent?\\n•\\tIn the context of Assignment 4, what does  b represent?\\n•\\tCan you compute the vector  bp of Assignment 4?\\n•\\tCan you compute 5 random vectors ( b1,b2,b3,b4,b5) lying on the \"Assignment 4 counterpart of the shaded \\nplane\" in the slide?\\n•\\tUsing distance calculations, can you check that none of these random vectors are as close \\nto  b as  bp is?\\nUse Assignment_4_Extra_Credit.xlsx  to submit your answers. Good luck and enjoy!\\nNOTE: Submitting a correct solution to this assignment will potentially get you a score of 125/100 for \\nAssignment 4. [Similar to the situation in Assignment 2.] Please write to me if you need further \\nclarification.\\n\\n'"
      ]
     },
     "execution_count": 39,
     "metadata": {},
     "output_type": "execute_result"
    }
   ],
   "source": [
    "\"\"\"\n",
    "Assignment 4\n",
    "1.\tImport training data provided in Assignment_4_Data_and_Template.xlsx \n",
    "2.\tUse the pseudoinverse method on the given training data to build two linear classifiers: (i) \n",
    "a binary classifier, and (ii) a multiclass classifier capable of distinguishing between 6 classes. \n",
    "The sheet titled \"Training Data\" contains the target class labels (Failure and Type). \n",
    "Paste your classifiers in the correct format as shown in the sheet titled \"Classifiers\"\n",
    "3.\tApply the classifiers to the data provided in the sheet \"To be classified.\" \n",
    "Paste the results into the sheet.\n",
    "4.\tEvaluate the performance of your classifiers using the metrics requested in the sheet \"Performance\"\n",
    "For guidance, see slides titled \"Step-by-step: Linear Classifier Design\" in the lecture on linear \n",
    "classifiers.\n",
    "A completed spreadsheet is your submission. Except for writing results into the correct cells, \n",
    "do not alter the spreadsheets in any other way.\n",
    " \n",
    "Extra Credit Opportunity: \n",
    "Flex your linear algebra muscles, mindfully!\n",
    "Refer to the slide titled \"What the pseudoinverse does\"\n",
    "•\tIn the context of Assignment 4, what does  wbest represent?\n",
    "•\tIn the context of Assignment 4, what does  b represent?\n",
    "•\tCan you compute the vector  bp of Assignment 4?\n",
    "•\tCan you compute 5 random vectors ( b1,b2,b3,b4,b5) lying on the \"Assignment 4 counterpart of the shaded \n",
    "plane\" in the slide?\n",
    "•\tUsing distance calculations, can you check that none of these random vectors are as close \n",
    "to  b as  bp is?\n",
    "Use Assignment_4_Extra_Credit.xlsx  to submit your answers. Good luck and enjoy!\n",
    "NOTE: Submitting a correct solution to this assignment will potentially get you a score of 125/100 for \n",
    "Assignment 4. [Similar to the situation in Assignment 2.] Please write to me if you need further \n",
    "clarification.\n",
    "\n",
    "\"\"\""
   ]
  },
  {
   "cell_type": "code",
   "execution_count": 66,
   "metadata": {},
   "outputs": [],
   "source": [
    "import numpy as np\n",
    "from matplotlib import pyplot as plt\n",
    "\n",
    "def getSheetNames(excelfile):\n",
    "    from pandas import ExcelFile\n",
    "    return (ExcelFile(excelfile)).sheet_names\n",
    "\n",
    "def readExcelSheet1(excelfile):\n",
    "    from pandas import read_excel\n",
    "    return (read_excel(excelfile)).values\n",
    "\n",
    "def readExcelRange(excelfile, sheetname=\"Sheet1\", startrow=1, endrow=1, startcol=1, endcol=1):\n",
    "    from pandas import read_excel\n",
    "    values = (read_excel(excelfile, sheetname, header=None)).values;\n",
    "    return values[startrow - 1:endrow, startcol - 1:endcol]\n",
    "\n",
    "def readExcel(excelfile, **args):\n",
    "    if args:\n",
    "        data = readExcelRange(excelfile, **args)\n",
    "    else:\n",
    "        data = readExcelSheet1(excelfile)\n",
    "    if data.shape == (1, 1):\n",
    "        return data[0, 0]\n",
    "    elif (data.shape)[0] == 1:\n",
    "        return data[0]\n",
    "    else:\n",
    "        return data\n",
    "def writeExcelData(x, excelfile, sheetname, startrow, startcol, reshape=None):\n",
    "    from pandas import DataFrame, ExcelWriter\n",
    "    from openpyxl import load_workbook\n",
    "    if reshape:\n",
    "        df = DataFrame(x.reshape(-1, len(x)))\n",
    "    else:\n",
    "        df = DataFrame(x)\n",
    "    book = load_workbook(excelfile)\n",
    "    writer = ExcelWriter(excelfile, engine='openpyxl')\n",
    "    writer.book = book\n",
    "    writer.sheets = dict((ws.title, ws) for ws in book.worksheets)\n",
    "    df.to_excel(writer, sheet_name=sheetname, startrow=startrow - 1, startcol=startcol - 1, header=False, index=False)\n",
    "    writer.save()\n",
    "    writer.close()\n",
    "\n",
    "\n",
    "excelfile = r\"/Users/omerorhan/Desktop/UCSC/MachineLearning/Assignments/venv/notebookfiles/\" \\\n",
    "            r\"Assignment#4/Assignment_4_Data_and_Template.xlsx\";\n",
    "sheets = getSheetNames(excelfile)\n",
    "sheets\n",
    "\n",
    "data = readExcel(excelfile)\n",
    "\n"
   ]
  },
  {
   "cell_type": "code",
   "execution_count": 65,
   "metadata": {
    "collapsed": true
   },
   "outputs": [],
   "source": [
    "def getClassifier(data):\n",
    "#Collect and assemble 𝑁×𝑑 matrix of feature vectors into matrix 𝐗. \n",
    "    X = data[:,:-4]\n",
    "    #Assemble targets into 𝐓\n",
    "    F = np.array(data[:,-4:-3], dtype=int)\n",
    "    Tnum =  np.array(data[:,-3:-2], dtype=int)\n",
    "    N = len(X)\n",
    "    w = np.ones(N)\n",
    "    w[0] = 0 \n",
    "    ones = np.ones((N,1),dtype=int)\n",
    "    #Construct the augmented feature vector set 𝐗𝐚 by prepending a column of 1s in front of the matrix 𝐗.\n",
    "    # Note that 𝐗𝐚 has dimensions 𝑁×(𝑑+1).\n",
    "    Xa = np.concatenate((ones,X), axis=1)\n",
    "    print(Xa.shape)\n",
    "    XaPI = np.linalg.pinv(Xa.astype(int))\n",
    "    wF= np.matmul(XaPI,F)\n",
    "    wT = np.matmul(XaPI, Tnum)\n",
    "    return wF, wT, X, F, Tnum, N\n",
    "\n"
   ]
  },
  {
   "cell_type": "code",
   "execution_count": 42,
   "metadata": {},
   "outputs": [],
   "source": [
    ""
   ]
  }
 ],
 "metadata": {
  "kernelspec": {
   "display_name": "Python 2",
   "language": "python",
   "name": "python2"
  },
  "language_info": {
   "codemirror_mode": {
    "name": "ipython",
    "version": 2
   },
   "file_extension": ".py",
   "mimetype": "text/x-python",
   "name": "python",
   "nbconvert_exporter": "python",
   "pygments_lexer": "ipython2",
   "version": "2.7.6"
  }
 },
 "nbformat": 4,
 "nbformat_minor": 0
}
